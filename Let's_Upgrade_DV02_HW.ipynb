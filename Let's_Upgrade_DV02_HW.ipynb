{
  "nbformat": 4,
  "nbformat_minor": 0,
  "metadata": {
    "colab": {
      "name": "Untitled8.ipynb",
      "provenance": []
    },
    "kernelspec": {
      "name": "python3",
      "display_name": "Python 3"
    },
    "language_info": {
      "name": "python"
    }
  },
  "cells": [
    {
      "cell_type": "markdown",
      "metadata": {
        "id": "z6jj6iGD2JZ0"
      },
      "source": [
        "#### Q.1 create a dataframe with 10 rows on random numbers & 4 columns(labelled as a,b,c,d) & plot a bar chart"
      ]
    },
    {
      "cell_type": "code",
      "metadata": {
        "id": "GztZKGKP2Qa3"
      },
      "source": [
        "import numpy as np\n",
        "import pandas as pd\n",
        "import matplotlib.pyplot as plt\n",
        "import seaborn as sns\n",
        "\n",
        "%matplotlib inline"
      ],
      "execution_count": 1,
      "outputs": []
    },
    {
      "cell_type": "code",
      "metadata": {
        "colab": {
          "base_uri": "https://localhost:8080/",
          "height": 348
        },
        "id": "XLzUujeD2liA",
        "outputId": "5c658da0-35f0-4afe-c816-c7dec79efb9b"
      },
      "source": [
        "df = pd.DataFrame(np.random.randn(10,4), columns=['a','b','c','d'])\n",
        "df"
      ],
      "execution_count": 2,
      "outputs": [
        {
          "output_type": "execute_result",
          "data": {
            "text/html": [
              "<div>\n",
              "<style scoped>\n",
              "    .dataframe tbody tr th:only-of-type {\n",
              "        vertical-align: middle;\n",
              "    }\n",
              "\n",
              "    .dataframe tbody tr th {\n",
              "        vertical-align: top;\n",
              "    }\n",
              "\n",
              "    .dataframe thead th {\n",
              "        text-align: right;\n",
              "    }\n",
              "</style>\n",
              "<table border=\"1\" class=\"dataframe\">\n",
              "  <thead>\n",
              "    <tr style=\"text-align: right;\">\n",
              "      <th></th>\n",
              "      <th>a</th>\n",
              "      <th>b</th>\n",
              "      <th>c</th>\n",
              "      <th>d</th>\n",
              "    </tr>\n",
              "  </thead>\n",
              "  <tbody>\n",
              "    <tr>\n",
              "      <th>0</th>\n",
              "      <td>-0.944890</td>\n",
              "      <td>-0.056468</td>\n",
              "      <td>-0.502987</td>\n",
              "      <td>-0.222921</td>\n",
              "    </tr>\n",
              "    <tr>\n",
              "      <th>1</th>\n",
              "      <td>-0.827754</td>\n",
              "      <td>-0.183861</td>\n",
              "      <td>-0.236731</td>\n",
              "      <td>0.854653</td>\n",
              "    </tr>\n",
              "    <tr>\n",
              "      <th>2</th>\n",
              "      <td>-2.503751</td>\n",
              "      <td>-0.133054</td>\n",
              "      <td>1.190835</td>\n",
              "      <td>2.015982</td>\n",
              "    </tr>\n",
              "    <tr>\n",
              "      <th>3</th>\n",
              "      <td>-1.644681</td>\n",
              "      <td>-0.571416</td>\n",
              "      <td>-0.813856</td>\n",
              "      <td>1.183002</td>\n",
              "    </tr>\n",
              "    <tr>\n",
              "      <th>4</th>\n",
              "      <td>-0.239093</td>\n",
              "      <td>0.243370</td>\n",
              "      <td>1.228603</td>\n",
              "      <td>1.452657</td>\n",
              "    </tr>\n",
              "    <tr>\n",
              "      <th>5</th>\n",
              "      <td>0.788726</td>\n",
              "      <td>-0.154873</td>\n",
              "      <td>1.221608</td>\n",
              "      <td>-1.556200</td>\n",
              "    </tr>\n",
              "    <tr>\n",
              "      <th>6</th>\n",
              "      <td>0.091131</td>\n",
              "      <td>-0.286937</td>\n",
              "      <td>-0.501992</td>\n",
              "      <td>0.830051</td>\n",
              "    </tr>\n",
              "    <tr>\n",
              "      <th>7</th>\n",
              "      <td>0.129647</td>\n",
              "      <td>-1.547993</td>\n",
              "      <td>-0.029184</td>\n",
              "      <td>1.339036</td>\n",
              "    </tr>\n",
              "    <tr>\n",
              "      <th>8</th>\n",
              "      <td>-0.992260</td>\n",
              "      <td>0.612758</td>\n",
              "      <td>-0.193217</td>\n",
              "      <td>1.186230</td>\n",
              "    </tr>\n",
              "    <tr>\n",
              "      <th>9</th>\n",
              "      <td>-0.699892</td>\n",
              "      <td>-0.925434</td>\n",
              "      <td>-1.010394</td>\n",
              "      <td>-0.314148</td>\n",
              "    </tr>\n",
              "  </tbody>\n",
              "</table>\n",
              "</div>"
            ],
            "text/plain": [
              "          a         b         c         d\n",
              "0 -0.944890 -0.056468 -0.502987 -0.222921\n",
              "1 -0.827754 -0.183861 -0.236731  0.854653\n",
              "2 -2.503751 -0.133054  1.190835  2.015982\n",
              "3 -1.644681 -0.571416 -0.813856  1.183002\n",
              "4 -0.239093  0.243370  1.228603  1.452657\n",
              "5  0.788726 -0.154873  1.221608 -1.556200\n",
              "6  0.091131 -0.286937 -0.501992  0.830051\n",
              "7  0.129647 -1.547993 -0.029184  1.339036\n",
              "8 -0.992260  0.612758 -0.193217  1.186230\n",
              "9 -0.699892 -0.925434 -1.010394 -0.314148"
            ]
          },
          "metadata": {
            "tags": []
          },
          "execution_count": 2
        }
      ]
    },
    {
      "cell_type": "code",
      "metadata": {
        "colab": {
          "base_uri": "https://localhost:8080/",
          "height": 618
        },
        "id": "Ha73x52g24Kk",
        "outputId": "86dc22a8-5c44-4821-be92-9308e800e1d2"
      },
      "source": [
        "df.plot(kind = 'bar', figsize=(15,10), width = 1)\n",
        "plt.title('Bar graph for DF')\n",
        "plt.xlabel('X-axis')\n",
        "plt.ylabel('Y-axis')\n",
        "plt.show()"
      ],
      "execution_count": 12,
      "outputs": [
        {
          "output_type": "display_data",
          "data": {
            "image/png": "[encoded data removed]",
            "text/plain": [
              "<Figure size 1080x720 with 1 Axes>"
            ]
          },
          "metadata": {
            "tags": [],
            "needs_background": "light"
          }
        }
      ]
    },
    {
      "cell_type": "code",
      "metadata": {
        "id": "8Xq9JKqB3BRL"
      },
      "source": [
        ""
      ],
      "execution_count": null,
      "outputs": []
    }
  ]
}